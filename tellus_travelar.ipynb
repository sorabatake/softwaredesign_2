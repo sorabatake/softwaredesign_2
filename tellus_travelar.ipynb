{
 "cells": [
  {
   "cell_type": "code",
   "execution_count": null,
   "metadata": {},
   "outputs": [],
   "source": [
    "import requests\n",
    "import json\n",
    "import matplotlib.pyplot as plt\n",
    "from PIL import Image\n",
    "from io import BytesIO\n",
    "from osgeo import gdal"
   ]
  },
  {
   "cell_type": "code",
   "execution_count": null,
   "metadata": {},
   "outputs": [],
   "source": [
    "TOKEN = \"Tellus のマイページ上で取得した API トークン \"\n",
    "# Tellus Traveler で探したデータの id を指定\n",
    "dataset_id = \"50f05191-a0d5-4377-be8d-a880ec54ae27\"\n",
    "scene_id = \"5b552df4-9ee7-4387-b1a6-f8874dc6ba86\"\n",
    "files_url = f\"https://www.tellusxdp.com/api/traveler/v1/datasets/{dataset_id}/data/{scene_id}/files/\"\n",
    "# Tellus の API は Bearer 認証のため、リクエストヘッダに必要な情報を設定\n",
    "headers = {\n",
    "    \"Authorization\": \"Bearer \" + TOKEN,\n",
    "    \"Content-Type\": \"application/json\",\n",
    "}\n",
    "# headers で設定したヘッダ情報を用いて GET リクエストを送信し、結果を受け取る\n",
    "response = requests.get(files_url, headers=headers)\n",
    "json.loads(response.content)\n"
   ]
  },
  {
   "cell_type": "code",
   "execution_count": null,
   "metadata": {},
   "outputs": [],
   "source": [
    "file_id = 11\n",
    "api_download_url = f\"https://www.tellusxdp.com/api/traveler/v1/datasets/{dataset_id}/data/{scene_id}/files/{file_id}/download-url/\"\n",
    "# 画像ファイルのダウンロード URL を生成する POST リクエストを送信し、生成された URL を受け取る\n",
    "response = requests.post(api_download_url, headers=headers)\n",
    "tif_download_url = json.loads(response.content)[\"download_url\"]"
   ]
  },
  {
   "cell_type": "code",
   "execution_count": null,
   "metadata": {},
   "outputs": [],
   "source": [
    "# stream オプションを有効にし、画像ファイルを chunk に分割したデータを 1 つのファイルに書き込む\n",
    "tif_file_path = \"./ASNARO.tif\"\n",
    "with requests.get(tif_download_url, stream=True) as r:\n",
    "    r.raise_for_status()\n",
    "    with open(tif_file_path, \"wb\") as f:\n",
    "        for chunk in r.iter_content(chunk_size=8192):\n",
    "            f.write(chunk)"
   ]
  },
  {
   "cell_type": "code",
   "execution_count": null,
   "metadata": {},
   "outputs": [],
   "source": [
    "src = gdal.Open(tif_file_path)"
   ]
  },
  {
   "cell_type": "code",
   "execution_count": null,
   "metadata": {},
   "outputs": [],
   "source": [
    "b2 = src.GetRasterBand(2).ReadAsArray()"
   ]
  },
  {
   "cell_type": "code",
   "execution_count": null,
   "metadata": {},
   "outputs": [],
   "source": [
    "# Matplotlib の pyplot.hist 関数を用いてヒストグラムを表示\n",
    "plt.hist(b2.flatten(), bins=100, range=(1, b2.max()))\n",
    "plt.title(\"BlueBand\", fontsize=10)"
   ]
  },
  {
   "cell_type": "code",
   "execution_count": null,
   "metadata": {},
   "outputs": [],
   "source": [
    "plt.imshow(b2, vmax=1200, cmap=\"Blues\")"
   ]
  },
  {
   "cell_type": "code",
   "execution_count": null,
   "metadata": {},
   "outputs": [],
   "source": [
    "gdal.Translate(\n",
    "    \"./tellus_travel_test.png\",\n",
    "    src,\n",
    "    srcWin=(3500, 3400, 1280, 1280),\n",
    "    scaleParams=[[0, 1200]],\n",
    "    format=\"PNG\",\n",
    "    outputType=gdal.GDT_Byte,\n",
    "    bandList=[4, 3, 2],\n",
    ")"
   ]
  },
  {
   "cell_type": "code",
   "execution_count": null,
   "metadata": {},
   "outputs": [],
   "source": [
    "image = Image.open(\"./tellus_travel_test.png\")\n",
    "image.show()"
   ]
  },
  {
   "cell_type": "code",
   "execution_count": null,
   "metadata": {},
   "outputs": [],
   "source": [
    "# 前回作成した学習済みモデルデータ\n",
    "MODEL_PATH = \"./YOLOX_outputs/airbus_config/best_ckpt.pth\"\n",
    "# 画像サイズをモデルの学習時に利用していた大きさに揃える\n",
    "resized_test_image = image.resize((640, 640))\n",
    "resized_test_image.save(\"resized_test.jpg\")"
   ]
  },
  {
   "cell_type": "code",
   "execution_count": null,
   "metadata": {},
   "outputs": [],
   "source": [
    "!python ./YOLOX/tools/demo.py image ¥\n",
    "    -f airbus̲config.py ¥ # 設定ファイルを指定\n",
    "    -c {MODEL̲PATH} ¥ # 学習済みデータモデルのファイル指定\n",
    "    --path ./resized̲test.jpg ¥ # 画像のファイルパス指定\n",
    "    --tsize 640 ¥ # 対象画像の画像解像度を指定\n",
    "    --save̲result ¥ # 結果画像を保存する\n",
    "    --device gpu # 利用デバイスの指定（ここでは GPU か CPU か）"
   ]
  }
 ],
 "metadata": {
  "language_info": {
   "name": "python"
  },
  "orig_nbformat": 4
 },
 "nbformat": 4,
 "nbformat_minor": 2
}
